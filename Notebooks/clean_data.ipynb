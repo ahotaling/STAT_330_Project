{
 "cells": [
  {
   "cell_type": "code",
   "execution_count": 1,
   "metadata": {},
   "outputs": [],
   "source": [
    "import numpy as np\n",
    "import pandas as pd"
   ]
  },
  {
   "cell_type": "code",
   "execution_count": 7,
   "metadata": {},
   "outputs": [],
   "source": [
    "def month_string_to_number(string):\n",
    "    \"\"\" month_string_to_number takes a month and turns it into the \n",
    "    corresponding number\n",
    "    args:\n",
    "        :string - each item is a string\n",
    "\n",
    "    returns:\n",
    "        :(out) - the equivalent of the month's number\n",
    "    \"\"\"\n",
    "    m = {\n",
    "        'jan': 1,\n",
    "        'feb': 2,\n",
    "        'mar': 3,\n",
    "        'apr':4,\n",
    "         'may':5,\n",
    "         'jun':6,\n",
    "         'jul':7,\n",
    "         'aug':8,\n",
    "         'sep':9,\n",
    "         'oct':10,\n",
    "         'nov':11,\n",
    "         'dec':12\n",
    "        }\n",
    "    s = string.strip()[:3].lower()\n",
    "\n",
    "    try:\n",
    "        out = m[s]\n",
    "        return out\n",
    "    except:\n",
    "        raise ValueError('Not a month')\n",
    "        \n",
    "path = '/Users/afugere/Desktop/UVM Masters/GraduateSemester2/STAT330/FinalProject/'\n",
    "path2 = '/Users/abigailhotaling/Documents/STAT_330_Project/Data/'\n",
    "figpath = '/Users/abigailhotaling/Documents/STAT_330_Project/Figures/'\n",
    "data = pd.read_csv(path2+ 'Electricity_Residential_Price_New_England.csv')\n",
    "\n",
    "#data.columns = ['Date', 'Electricity Residential Price: New England cents per kilowatthour']\n",
    "data.columns = ['Date', 'Electricity Price']\n",
    "# I also changed the column name for now, just to be a little bit shorter \n",
    "dates = []\n",
    "months = []\n",
    "years = []\n",
    "for entry in data['Date']:\n",
    "    dates.append(entry.replace('-', ' '))\n",
    "    data['Month and Year'] = pd.Series(dates)\n",
    "    months.append(month_string_to_number(str(entry[0:-3])))\n",
    "    years.append(entry[-2:])\n",
    "    data['Month'] = pd.Series(months)\n",
    "    data['Year'] = pd.Series(years)\n",
    "    \n",
    "updated_years = []\n",
    "for y in data['Year']:\n",
    "    if int(y) > 19:\n",
    "        updated_years.append('19'+y)\n",
    "    else:\n",
    "        updated_years.append('20'+y)\n",
    "    data['Year'] = pd.Series(updated_years)\n",
    "    \n",
    "data['Day'] = [1]*len(data)\n",
    "\n",
    "data['Datetime'] = pd.to_datetime(data[['Year', 'Month', 'Day']])\n",
    "data.iloc[:] = data.iloc[::-1].values"
   ]
  },
  {
   "cell_type": "code",
   "execution_count": 8,
   "metadata": {},
   "outputs": [],
   "source": [
    "# transform to dollars \n",
    "data['Electricity Price'] = data['Electricity Price']/100"
   ]
  },
  {
   "cell_type": "code",
   "execution_count": 9,
   "metadata": {},
   "outputs": [],
   "source": [
    "# save file \n",
    "data.to_csv(path2 + 'data_clean.csv')"
   ]
  },
  {
   "cell_type": "code",
   "execution_count": null,
   "metadata": {},
   "outputs": [],
   "source": []
  }
 ],
 "metadata": {
  "kernelspec": {
   "display_name": "Python 3",
   "language": "python",
   "name": "python3"
  },
  "language_info": {
   "codemirror_mode": {
    "name": "ipython",
    "version": 3
   },
   "file_extension": ".py",
   "mimetype": "text/x-python",
   "name": "python",
   "nbconvert_exporter": "python",
   "pygments_lexer": "ipython3",
   "version": "3.6.5"
  }
 },
 "nbformat": 4,
 "nbformat_minor": 2
}
